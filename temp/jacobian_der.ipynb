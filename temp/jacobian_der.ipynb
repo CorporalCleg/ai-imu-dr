{
 "cells": [
  {
   "cell_type": "code",
   "execution_count": 9,
   "metadata": {},
   "outputs": [],
   "source": [
    "import numpy as np\n",
    "from scipy.spatial.transform import Rotation as R"
   ]
  },
  {
   "cell_type": "code",
   "execution_count": 2,
   "metadata": {},
   "outputs": [],
   "source": [
    "def h_acc(state, a_n, omega_n):\n",
    "    R_imu, v_imu, p_imu, b_a, b_omega, R_c, p_c = state\n",
    "\n",
    "    v_c = R_imu.T @ R_C.T @ v_imu + np.cross(omega_n - b_omega, p_c)\n",
    "    obs = a_n[1] - v_c.flatten()[0] * (omega_n - b_omega)[3] \n",
    "    return obs"
   ]
  },
  {
   "cell_type": "code",
   "execution_count": null,
   "metadata": {},
   "outputs": [],
   "source": [
    "R_imu = R.from_rotvec(np.pi/2 * np.array([0, 0, 1]))\n",
    "v_imu = np.array"
   ]
  },
  {
   "cell_type": "code",
   "execution_count": 11,
   "metadata": {},
   "outputs": [],
   "source": [
    "import numpy as np\n",
    "from scipy.spatial.transform import Rotation as R\n",
    "\n",
    "def skew(v):\n",
    "    \"\"\"\n",
    "    Create a skew-symmetric matrix from a vector.\n",
    "    \"\"\"\n",
    "    return np.array([[0, -v[2], v[1]],\n",
    "                     [v[2], 0, -v[0]],\n",
    "                     [-v[1], v[0], 0]])\n",
    "\n",
    "def h_acc(state, a_n, omega_n):\n",
    "    R_imu, v_imu, p_imu, b_a, b_omega, R_c, p_c = state\n",
    "\n",
    "    v_c = R_imu.T @ R_c.T @ v_imu + np.cross(omega_n - b_omega, p_c)\n",
    "    obs = a_n[1] - v_c.flatten()[0] * (omega_n - b_omega)[2] \n",
    "    return obs\n",
    "\n",
    "def compute_jacobian(state, a_n, omega_n):\n",
    "    # Define small perturbations\n",
    "    delta = 1e-6\n",
    "    n = len(state)\n",
    "    jacobian = np.zeros(n)\n",
    "\n",
    "    # Compute the observation at the nominal state\n",
    "    obs_nominal = h_acc(state, a_n, omega_n)\n",
    "\n",
    "    for i in range(n):\n",
    "        # Create a perturbed state\n",
    "        perturbed_state = list(state)\n",
    "\n",
    "        if isinstance(perturbed_state[i], np.ndarray) and perturbed_state[i].shape == (3, 3):\n",
    "            # Perturb a rotation matrix using the exponential map\n",
    "            perturbation_vector = np.array([delta, delta, delta])\n",
    "            perturbed_rotation = R.from_matrix(perturbed_state[i]) * R.from_rotvec(perturbation_vector)\n",
    "            perturbed_state[i] = perturbed_rotation.as_matrix()\n",
    "        elif isinstance(perturbed_state[i], np.ndarray):\n",
    "            # Perturb vectors\n",
    "            perturbed_state[i] += delta\n",
    "        \n",
    "        # Compute the observation with perturbed state\n",
    "        obs_perturbed = h_acc(perturbed_state, a_n, omega_n)\n",
    "        \n",
    "        # Calculate Jacobian element by finite difference\n",
    "        jacobian[i] = (obs_perturbed - obs_nominal) / delta\n",
    "\n",
    "    return jacobian"
   ]
  },
  {
   "cell_type": "code",
   "execution_count": null,
   "metadata": {},
   "outputs": [
    {
     "name": "stdout",
     "output_type": "stream",
     "text": [
      "Jacobian: [ 4.99933428e-07 -1.00000000e+00 -1.00000000e+00 -1.00000000e+00\n",
      " -4.99999000e-01 -4.99998500e-01  5.00000000e-01]\n"
     ]
    }
   ],
   "source": [
    "\n"
   ]
  },
  {
   "cell_type": "code",
   "execution_count": 3,
   "metadata": {},
   "outputs": [],
   "source": [
    "import numpy as np\n",
    "from scipy.spatial.transform import Rotation as R\n",
    "\n",
    "\n",
    "def h_acc(state, a_n, omega_n):\n",
    "    R_imu, v_imu, p_imu, b_omega, b_a, R_c, p_c = state[:3], state[3:6].reshape(3, 1), \\\n",
    "        state[6:9].reshape(3, 1), state[9:12].reshape(3, 1), state[12:15], state[15:18], state[18:21]\n",
    "\n",
    "    R_imu = R.from_rotvec(R_imu).as_matrix()\n",
    "    R_c = R.from_rotvec(R_c).as_matrix()\n",
    "\n",
    "    v_c = (R_c.T @ R_imu.T @ v_imu).flatten() + np.cross(omega_n - b_omega, p_c)\n",
    "    obs = (R_c.T @ (a_n - b_a)).flatten()[1] - v_c[0] * (omega_n - b_omega)[2] \n",
    "    return obs\n",
    "\n",
    "def compute_jacobian(x_0, a_n, omega_n, d=1e-3):\n",
    "    # Define small perturbations\n",
    "    n = len(x_0)\n",
    "    jacobian = np.zeros(n)\n",
    "\n",
    "    # Compute the observation at the nominal state\n",
    "    obs_nominal = h_acc(x_0, a_n, omega_n)\n",
    "\n",
    "    for i in range(n):\n",
    "        # Compute the observation with perturbed state\n",
    "        x_0_perturbed = np.copy(x_0)\n",
    "        x_0_perturbed[i] += d\n",
    "        obs_perturbed = h_acc(x_0_perturbed, a_n, omega_n)\n",
    "        \n",
    "        # Calculate Jacobian element by finite difference\n",
    "        print(obs_perturbed)\n",
    "        jacobian[i] = (obs_perturbed - obs_nominal) / d\n",
    "\n",
    "    return jacobian\n",
    "\n",
    "# Example usage:\n",
    "chi_imu = np.array([0.3, 0.2, 0.1])\n",
    "v_imu = np.array([0.5, 0.0, 0.0])\n",
    "p_imu = np.array([0.0, 0.0, 0.0])\n",
    "b_a = np.array([0.0, 0.0, 0.0])\n",
    "b_omega = np.array([0.0, 0.0, 0.0])\n",
    "chi_c = np.array([0.1, 0.2, 0.3])\n",
    "p_c = np.array([0.1, 0.0, 0.0])\n",
    "\n",
    "# Nominal state\n",
    "\n",
    "a_n = np.array([0.0, 1.0, 0.0])\n",
    "omega_n = np.array([0.0, 0.0, 1.0])\n",
    "x_0 = np.concatenate((chi_imu, v_imu, p_imu, b_omega, b_a, chi_c, p_c))"
   ]
  },
  {
   "cell_type": "code",
   "execution_count": 4,
   "metadata": {},
   "outputs": [
    {
     "name": "stdout",
     "output_type": "stream",
     "text": [
      "[0.95058062 0.95058062 0.74325797]\n"
     ]
    },
    {
     "ename": "ValueError",
     "evalue": "setting an array element with a sequence.",
     "output_type": "error",
     "traceback": [
      "\u001b[0;31m---------------------------------------------------------------------------\u001b[0m",
      "\u001b[0;31mTypeError\u001b[0m                                 Traceback (most recent call last)",
      "\u001b[0;31mTypeError\u001b[0m: only length-1 arrays can be converted to Python scalars",
      "\nThe above exception was the direct cause of the following exception:\n",
      "\u001b[0;31mValueError\u001b[0m                                Traceback (most recent call last)",
      "Cell \u001b[0;32mIn[4], line 1\u001b[0m\n\u001b[0;32m----> 1\u001b[0m \u001b[43mcompute_jacobian\u001b[49m\u001b[43m(\u001b[49m\u001b[43mx_0\u001b[49m\u001b[43m,\u001b[49m\u001b[43m \u001b[49m\u001b[43ma_n\u001b[49m\u001b[43m,\u001b[49m\u001b[43m \u001b[49m\u001b[43momega_n\u001b[49m\u001b[43m)\u001b[49m\n",
      "Cell \u001b[0;32mIn[3], line 32\u001b[0m, in \u001b[0;36mcompute_jacobian\u001b[0;34m(x_0, a_n, omega_n, d)\u001b[0m\n\u001b[1;32m     30\u001b[0m     \u001b[38;5;66;03m# Calculate Jacobian element by finite difference\u001b[39;00m\n\u001b[1;32m     31\u001b[0m     \u001b[38;5;28mprint\u001b[39m(obs_perturbed)\n\u001b[0;32m---> 32\u001b[0m     jacobian[i] \u001b[38;5;241m=\u001b[39m (obs_perturbed \u001b[38;5;241m-\u001b[39m obs_nominal) \u001b[38;5;241m/\u001b[39m d\n\u001b[1;32m     34\u001b[0m \u001b[38;5;28;01mreturn\u001b[39;00m jacobian\n",
      "\u001b[0;31mValueError\u001b[0m: setting an array element with a sequence."
     ]
    }
   ],
   "source": [
    "compute_jacobian(x_0, a_n, omega_n)"
   ]
  },
  {
   "cell_type": "code",
   "execution_count": null,
   "metadata": {},
   "outputs": [],
   "source": []
  }
 ],
 "metadata": {
  "kernelspec": {
   "display_name": "pytorch3d_env",
   "language": "python",
   "name": "python3"
  },
  "language_info": {
   "codemirror_mode": {
    "name": "ipython",
    "version": 3
   },
   "file_extension": ".py",
   "mimetype": "text/x-python",
   "name": "python",
   "nbconvert_exporter": "python",
   "pygments_lexer": "ipython3",
   "version": "3.10.16"
  }
 },
 "nbformat": 4,
 "nbformat_minor": 2
}
